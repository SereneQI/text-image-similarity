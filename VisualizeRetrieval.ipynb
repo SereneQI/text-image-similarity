{
 "cells": [
  {
   "cell_type": "code",
   "execution_count": null,
   "metadata": {},
   "outputs": [],
   "source": [
    "import matplotlib.pyplot as plt\n",
    "from matplotlib.pyplot import figure, imshow, axis\n",
    "from matplotlib.image import imread\n",
    "\n",
    "import os\n",
    "import numpy as np\n",
    "from IPython.display import display, Image\n",
    "from PIL import Image as PILImage\n",
    " \n",
    "import io\n",
    "\n",
    "import csv\n",
    "import itertools\n",
    "\n",
    "%matplotlib inline  "
   ]
  },
  {
   "cell_type": "code",
   "execution_count": null,
   "metadata": {},
   "outputs": [],
   "source": [
    "def showImagesHorizontally(list_of_files):\n",
    "    fig = figure(figsize=(40,40))\n",
    "    number_of_files = len(list_of_files)\n",
    "    for i in range(number_of_files):\n",
    "        a=fig.add_subplot(1,number_of_files,i+1)\n",
    "        image = imread(list_of_files[i], 0)\n",
    "        imshow(image,cmap='Greys_r')\n",
    "        axis('off')\n",
    "    plt.show()"
   ]
  },
  {
   "cell_type": "code",
   "execution_count": null,
   "metadata": {},
   "outputs": [],
   "source": [
    "showImagesHorizontally(['/data/a.nivaggioli/features/manWalkingOnBeach.png','/data/a.nivaggioli/features/manWalkingOnBeach.png','/data/a.nivaggioli/features/manWalkingOnBeach.png','/data/a.nivaggioli/features/manWalkingOnBeach.png','/data/a.nivaggioli/features/manWalkingOnBeach.png'])"
   ]
  },
  {
   "cell_type": "code",
   "execution_count": null,
   "metadata": {},
   "outputs": [],
   "source": [
    "en = open(\"correct_full_cs_en.csv\", 'r')\n",
    "fr = open(\"correct_full_cs_fr.csv\", 'r')\n",
    "de = open(\"correct_full_cs_de.csv\", 'r')\n",
    "\n",
    "csv_en = csv.reader(en)\n",
    "csv_fr = csv.reader(fr)\n",
    "csv_de = csv.reader(de)\n",
    "\n",
    "for row_en,row_fr,row_de in itertools.zip_longest(csv_en, csv_fr, csv_de):\n",
    "    \n",
    "    print(row_en[0])\n",
    "    showImagesHorizontally(row_en[1:])\n",
    "    \n",
    "    print(row_fr[0])\n",
    "    showImagesHorizontally(row_fr[1:])\n",
    "    \n",
    "    print(row_de[0])\n",
    "    showImagesHorizontally(row_de[1:])\n",
    "    \n",
    "    print(\"********************************\")\n",
    "\n",
    "\n",
    "\n",
    "        "
   ]
  },
  {
   "cell_type": "code",
   "execution_count": null,
   "metadata": {},
   "outputs": [],
   "source": []
  }
 ],
 "metadata": {
  "kernelspec": {
   "display_name": "Python 3",
   "language": "python",
   "name": "python3"
  },
  "language_info": {
   "codemirror_mode": {
    "name": "ipython",
    "version": 3
   },
   "file_extension": ".py",
   "mimetype": "text/x-python",
   "name": "python",
   "nbconvert_exporter": "python",
   "pygments_lexer": "ipython3",
   "version": "3.6.5"
  }
 },
 "nbformat": 4,
 "nbformat_minor": 2
}
