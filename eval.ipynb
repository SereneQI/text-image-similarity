{
 "cells": [
  {
   "cell_type": "code",
   "execution_count": 1,
   "metadata": {},
   "outputs": [],
   "source": [
    "import sys"
   ]
  },
  {
   "cell_type": "code",
   "execution_count": 2,
   "metadata": {},
   "outputs": [],
   "source": [
    "import argparse\n",
    "import time\n",
    "import torch\n",
    "import torchvision.transforms as transforms\n",
    "import numpy as np\n",
    "import os\n",
    "\n",
    "from misc.dataset import CocoCaptionsRV, Multi30k\n",
    "from misc.evaluation import eval_recall, eval_recall5\n",
    "from misc.model import joint_embedding\n",
    "from misc.utils import collate_fn_padded\n",
    "from torch.utils.data import DataLoader\n",
    "\n",
    "os.environ[\"CUDA_VISIBLE_DEVICES\"]=\"3\""
   ]
  },
  {
   "cell_type": "markdown",
   "metadata": {},
   "source": [
    "## Parameters"
   ]
  },
  {
   "cell_type": "code",
   "execution_count": null,
   "metadata": {},
   "outputs": [],
   "source": [
    "normalize = transforms.Normalize(\n",
    "        mean=[0.485, 0.456, 0.406], std=[0.229, 0.224, 0.225])\n",
    "\n",
    "prepro_val = transforms.Compose([\n",
    "        transforms.Resize((400, 400)),\n",
    "        transforms.ToTensor(),\n",
    "        normalize,\n",
    "    ])"
   ]
  },
  {
   "cell_type": "code",
   "execution_count": null,
   "metadata": {},
   "outputs": [],
   "source": [
    "class arguments:\n",
    "    def __init__(self, dict):\n",
    "        self.dict = '/data/m.portaz/'+dict"
   ]
  },
  {
   "cell_type": "code",
   "execution_count": 3,
   "metadata": {},
   "outputs": [],
   "source": [
    "batch_size = 128"
   ]
  },
  {
   "cell_type": "code",
   "execution_count": 9,
   "metadata": {},
   "outputs": [
    {
     "name": "stderr",
     "output_type": "stream",
     "text": [
      "[nltk_data] Downloading package punkt to /home/user/nltk_data...\n",
      "[nltk_data]   Unzipping tokenizers/punkt.zip.\n"
     ]
    },
    {
     "data": {
      "text/plain": [
       "True"
      ]
     },
     "execution_count": 9,
     "metadata": {},
     "output_type": "execute_result"
    }
   ],
   "source": [
    "import nltk\n",
    "nltk.download('punkt')"
   ]
  },
  {
   "cell_type": "markdown",
   "metadata": {},
   "source": [
    "## Test Evaluation"
   ]
  },
  {
   "cell_type": "code",
   "execution_count": 4,
   "metadata": {},
   "outputs": [],
   "source": [
    "def cosine_sim(A, B):\n",
    "    \"\"\"\n",
    "        Return similarity of each image with each caption\n",
    "        One line of the output matrix correspond to one image\n",
    "        Each row correspond to one caption\n",
    "    \"\"\"\n",
    "    img_norm = np.linalg.norm(A, axis=1)\n",
    "    caps_norm = np.linalg.norm(B, axis=1)\n",
    "    scores = np.dot(A, B.T)\n",
    "    norms = np.dot(np.expand_dims(img_norm, 1),np.expand_dims(caps_norm.T, 1).T)\n",
    "    scores = (scores / norms)\n",
    "    return scores"
   ]
  },
  {
   "cell_type": "code",
   "execution_count": 5,
   "metadata": {},
   "outputs": [],
   "source": [
    "def multilingual_recall(imgs, caps, indices, ks=[1,5,10]):\n",
    "    \"\"\"\n",
    "        Compute multingual recall\n",
    "    \"\"\"\n",
    "    imgs = np.vstack(imgs)\n",
    "    caps = np.vstack(caps)\n",
    "\n",
    "    scores = -cosine_sim(imgs, caps)\n",
    "    ranks = np.argsort(np.argsort(scores))\n",
    "    # scores represent all the similarity between each images and each captions\n",
    "    recall = {k:0 for k in ks}\n",
    "    nb_imgs, nb_caps = ranks.shape\n",
    "    for i in range(nb_imgs):\n",
    "        for k in ks:\n",
    "            for j in range(nb_caps):\n",
    "                if indices[j] == i and ranks[i][j] < k: #if the caption correspond to the image and is ranked less than k\n",
    "                    recall[k] += 1\n",
    "                \n",
    "    scores = np.transpose(scores)\n",
    "    ranks_caps = np.argsort(np.argsort(scores))\n",
    "    recall_caps = {k:0 for k in ks}\n",
    "    print(\"Caption ranks :\", ranks_caps)\n",
    "    nb_caps, nb_imgs = ranks.shape\n",
    "    for i in range(nb_caps):\n",
    "        for k in ks:\n",
    "            if ranks[indices[i]][i] < k:\n",
    "                recall_caps[k] += 1\n",
    "    \n",
    "    return [recall[k] / imgs.shape[0]*100 for k in ks], [recall_caps[k] / ranks_caps.shape[0]*100 for k in ks]"
   ]
  },
  {
   "cell_type": "markdown",
   "metadata": {},
   "source": [
    "# Models to evaluate\n",
    "## with their corresponding dictionnaries"
   ]
  },
  {
   "cell_type": "code",
   "execution_count": null,
   "metadata": {},
   "outputs": [],
   "source": [
    "models = []\n",
    "\n",
    "#english only models\n",
    "models.append([\"best_sota_coco.pth.tar\", \n",
    "                {'en':\"wiki.en.bin\"}\n",
    "              ]) # state of the art model\n",
    "\n",
    "models.append([\"best_w2vec.pth.tar\", \n",
    "               {'en':\"w2vec_model_vec.en.vec\"}\n",
    "              ]) # word2vec model\n",
    "               \n",
    "models.append([\"best_bivec_coco.pth.tar\", \n",
    "               {'en':\"bivec_model_vec.en-fr.en.vec\"}\n",
    "               ]) # bivec on coco only\n",
    "               \n",
    "models.append([\"best_correct_en.pth.tar\", \n",
    "               {'en':\"wiki.multi.en.vec\"}\n",
    "              ]) # muse on english\n",
    "\n",
    "\n",
    "#multilingual models\n",
    "models.append([\"best_bivec_enfr.pth.tar\",\n",
    "               {'en':\"bivec_model_vec.en-fr.en.vec\",\n",
    "                'fr':\"bivec_model_vec.en-fr.fr.vec\"}\n",
    "            ])\n",
    "\n",
    "models.append([\"best_bivec_de.pth.tar\", \n",
    "               {'en':\"bivec_model_vec.en-de.en.vec\",\n",
    "                'de':\"bivec_model_vec.en-de.de.vec\"}\n",
    "              ])\n",
    "                \n",
    "\n",
    "models.append([\"best_correct_enfr.pth.tar\", \n",
    "               {'en':\"wiki.multi.en.vec\",\n",
    "                'fr':\"wiki.multi.fr.vec\",\n",
    "                'fr':\"wiki.multi.de.vec\",\n",
    "                'fr':\"wiki.multi.cs.vec\"}\n",
    "              ])\n",
    "                \n",
    "\n",
    "models.append([\"best_correct_full_enfrde.pth.tar\",\n",
    "               {'en':\"wiki.multi.en.vec\",\n",
    "                'fr':\"wiki.multi.fr.vec\",\n",
    "                'fr':\"wiki.multi.de.vec\",\n",
    "                'fr':\"wiki.multi.cs.vec\"}\n",
    "              ])\n",
    "                \n",
    "models.append([\"best_correct_full_enfrde.pth.tar\", \n",
    "               {'en':\"wiki.multi.en.vec\",\n",
    "                'fr':\"wiki.multi.fr.vec\",\n",
    "                'fr':\"wiki.multi.de.vec\",\n",
    "                'fr':\"wiki.multi.cs.vec\"}\n",
    "              ])"
   ]
  },
  {
   "cell_type": "markdown",
   "metadata": {},
   "source": [
    "# Evaluation on english"
   ]
  },
  {
   "cell_type": "code",
   "execution_count": 16,
   "metadata": {},
   "outputs": [
    {
     "name": "stdout",
     "output_type": "stream",
     "text": [
      "Testing model : best_sota_coco.pth.tar\n",
      "Using .bin file\n",
      "### Beginning of evaluation ###\n",
      "best_sota_coco.pth.tar [array([66.08, 90.7 , 96.2 ]), array([54.124, 85.748, 92.928]), 0.0, 0.0]\n",
      "Testing model : best_bivec_coco.pth.tar\n",
      "Using .vec file\n",
      "### Beginning of evaluation ###\n",
      "best_bivec_coco.pth.tar [array([65.58, 90.52, 96.1 ]), array([55.572, 86.924, 93.856]), 0.0, 0.0]\n",
      "Testing model : best_bivec_enfr.pth.tar\n",
      "Using .vec file\n",
      "### Beginning of evaluation ###\n",
      "best_bivec_enfr.pth.tar [array([67.6 , 91.68, 96.44]), array([55.708, 86.988, 93.872]), 0.0, 0.0]\n",
      "Testing model : best_correct_enfr.pth.tar\n",
      "Using .vec file\n",
      "### Beginning of evaluation ###\n",
      "best_correct_enfr.pth.tar [array([62.86, 88.34, 94.74]), array([50.232, 83.036, 91.756]), 0.0, 0.6]\n"
     ]
    }
   ],
   "source": [
    "for model, dic in models:\n",
    "    aa = arguments(dic['en'])\n",
    "    coco_dataset = CocoCaptionsRV(aa, sset=\"val\", transform=prepro_val)\n",
    "\n",
    "    coco_dataset_loader = DataLoader(coco_dataset, batch_size=batch_size, shuffle=False,\n",
    "                                num_workers=6, collate_fn=collate_fn_padded, pin_memory=True)\n",
    "    \n",
    "    # load model\n",
    "    checkpoint = torch.load(\"weights/\"+model, map_location=lambda storage, loc: storage)\n",
    "    join_emb = joint_embedding(checkpoint['args_dict']).cuda()\n",
    "    join_emb.load_state_dict(checkpoint[\"state_dict\"])\n",
    "    join_emb = torch.nn.DataParallel(join_emb.cuda().eval())\n",
    "    \n",
    "    \n",
    "    imgs_enc = list()\n",
    "    caps_enc = list()\n",
    "\n",
    "    print(\"### Beginning of evaluation ###\")\n",
    "    for i, (imgs, caps, lengths) in enumerate(coco_dataset_loader, 0):\n",
    "        print(\"%2.2f\" % (i*batch_size/len(coco_dataset)*100), \"\\%\", end=\"\\r\")\n",
    "        input_imgs, input_caps = imgs.cuda(), caps.cuda()\n",
    "        with torch.no_grad():\n",
    "            output_imgs, output_caps = join_emb(input_imgs, input_caps, lengths)\n",
    "\n",
    "        imgs_enc.append(output_imgs.cpu().data.numpy())\n",
    "        caps_enc.append(output_caps.cpu().data.numpy())\n",
    "    \n",
    "\n",
    "    print(model, eval_recall5(imgs_enc, caps_enc))"
   ]
  },
  {
   "cell_type": "markdown",
   "metadata": {},
   "source": [
    "# Multilang evaluation"
   ]
  }
 ],
 "metadata": {
  "kernelspec": {
   "display_name": "Python 3",
   "language": "python",
   "name": "python3"
  },
  "language_info": {
   "codemirror_mode": {
    "name": "ipython",
    "version": 3
   },
   "file_extension": ".py",
   "mimetype": "text/x-python",
   "name": "python",
   "nbconvert_exporter": "python",
   "pygments_lexer": "ipython3",
   "version": "3.6.5"
  }
 },
 "nbformat": 4,
 "nbformat_minor": 2
}
