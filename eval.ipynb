{
 "cells": [
  {
   "cell_type": "code",
   "execution_count": 1,
   "metadata": {},
   "outputs": [],
   "source": [
    "import sys"
   ]
  },
  {
   "cell_type": "code",
   "execution_count": 2,
   "metadata": {},
   "outputs": [],
   "source": [
    "%load_ext autoreload"
   ]
  },
  {
   "cell_type": "code",
   "execution_count": 3,
   "metadata": {},
   "outputs": [],
   "source": [
    "%autoreload 1"
   ]
  },
  {
   "cell_type": "code",
   "execution_count": 23,
   "metadata": {},
   "outputs": [],
   "source": [
    "import argparse\n",
    "import time\n",
    "import torch\n",
    "import torchvision.transforms as transforms\n",
    "import numpy as np\n",
    "import os\n",
    "\n",
    "from misc.dataset import CocoCaptionsRV, Multi30k\n",
    "from misc.evaluation import eval_recall, eval_recall5, k_recall\n",
    "from misc.model import joint_embedding\n",
    "from misc.utils import collate_fn_padded, collate_fn_cap_index\n",
    "from torch.utils.data import DataLoader\n",
    "import torch.utils.data as data\n",
    "\n",
    "os.environ[\"CUDA_VISIBLE_DEVICES\"]=\"3\""
   ]
  },
  {
   "cell_type": "markdown",
   "metadata": {},
   "source": [
    "## Parameters"
   ]
  },
  {
   "cell_type": "code",
   "execution_count": 5,
   "metadata": {},
   "outputs": [],
   "source": [
    "normalize = transforms.Normalize(\n",
    "        mean=[0.485, 0.456, 0.406], std=[0.229, 0.224, 0.225])\n",
    "\n",
    "prepro_val = transforms.Compose([\n",
    "        transforms.Resize((400, 400)),\n",
    "        transforms.ToTensor(),\n",
    "        normalize,\n",
    "    ])"
   ]
  },
  {
   "cell_type": "code",
   "execution_count": 6,
   "metadata": {},
   "outputs": [],
   "source": [
    "class arguments:\n",
    "    def __init__(self, dict):\n",
    "        self.dict = '/data/m.portaz/'+dict"
   ]
  },
  {
   "cell_type": "code",
   "execution_count": 7,
   "metadata": {},
   "outputs": [],
   "source": [
    "batch_size = 156"
   ]
  },
  {
   "cell_type": "code",
   "execution_count": 8,
   "metadata": {},
   "outputs": [
    {
     "name": "stderr",
     "output_type": "stream",
     "text": [
      "[nltk_data] Downloading package punkt to /home/user/nltk_data...\n",
      "[nltk_data]   Package punkt is already up-to-date!\n"
     ]
    },
    {
     "data": {
      "text/plain": [
       "True"
      ]
     },
     "execution_count": 8,
     "metadata": {},
     "output_type": "execute_result"
    }
   ],
   "source": [
    "import nltk\n",
    "nltk.download('punkt')"
   ]
  },
  {
   "cell_type": "markdown",
   "metadata": {},
   "source": [
    "## Test Evaluation"
   ]
  },
  {
   "cell_type": "code",
   "execution_count": 9,
   "metadata": {},
   "outputs": [],
   "source": [
    "def cosine_sim(A, B):\n",
    "    \"\"\"\n",
    "        Return similarity of each image with each caption\n",
    "        One line of the output matrix correspond to one image\n",
    "        Each row correspond to one caption\n",
    "    \"\"\"\n",
    "    img_norm = np.linalg.norm(A, axis=1)\n",
    "    caps_norm = np.linalg.norm(B, axis=1)\n",
    "    scores = np.dot(A, B.T)\n",
    "    norms = np.dot(np.expand_dims(img_norm, 1),np.expand_dims(caps_norm.T, 1).T)\n",
    "    scores = (scores / norms)\n",
    "    return scores"
   ]
  },
  {
   "cell_type": "code",
   "execution_count": 10,
   "metadata": {},
   "outputs": [],
   "source": [
    "def multilingual_recall(imgs, caps, indices, ks=[1,5,10]):\n",
    "    \"\"\"\n",
    "        Compute multingual recall\n",
    "    \"\"\"\n",
    "    imgs = np.vstack(imgs)\n",
    "    caps = np.vstack(caps)\n",
    "\n",
    "    scores = -cosine_sim(imgs, caps)\n",
    "    ranks = np.argsort(np.argsort(scores))\n",
    "    # scores represent all the similarity between each images and each captions\n",
    "    recall = {k:0 for k in ks}\n",
    "    nb_imgs, nb_caps = ranks.shape\n",
    "    for i in range(nb_imgs):\n",
    "        for k in ks:\n",
    "            for j in range(nb_caps):\n",
    "                if indices[j] == i and ranks[i][j] < k: #if the caption correspond to the image and is ranked less than k\n",
    "                    recall[k] += 1\n",
    "                \n",
    "    scores = np.transpose(scores)\n",
    "    ranks_caps = np.argsort(np.argsort(scores))\n",
    "    recall_caps = {k:0 for k in ks}\n",
    "    print(\"Caption ranks :\", ranks_caps)\n",
    "    nb_caps, nb_imgs = ranks.shape\n",
    "    for i in range(nb_caps):\n",
    "        for k in ks:\n",
    "            if ranks[indices[i]][i] < k:\n",
    "                recall_caps[k] += 1\n",
    "    \n",
    "    return [recall[k] / imgs.shape[0]*100 for k in ks], [recall_caps[k] / ranks_caps.shape[0]*100 for k in ks]"
   ]
  },
  {
   "cell_type": "markdown",
   "metadata": {},
   "source": [
    "# Models to evaluate\n",
    "## with their corresponding dictionnaries"
   ]
  },
  {
   "cell_type": "code",
   "execution_count": 26,
   "metadata": {},
   "outputs": [],
   "source": [
    "models = []\n",
    "\n",
    "#english only models\n",
    "models.append([\"best_sota_coco.pth.tar\", \n",
    "                {'en':\"wiki.en.bin\"}\n",
    "              ]) # state of the art model\n",
    "\n",
    "models.append([\"best_w2vec.pth.tar\", \n",
    "               {'en':\"w2vec_model_vec.en.vec\"}\n",
    "              ]) # word2vec model\n",
    "               \n",
    "models.append([\"best_bivec_coco.pth.tar\", \n",
    "               {'en':\"bivec_model_vec.en-fr.en.vec\"}\n",
    "               ]) # bivec on coco only\n",
    "               \n",
    "models.append([\"best_correct_en.pth.tar\", \n",
    "               {'en':\"wiki.multi.en.vec\"}\n",
    "              ]) # muse on english\n",
    "\n",
    "\n",
    "#multilingual models\n",
    "models.append([\"best_bivec_enfr.pth.tar\",\n",
    "               {'en':\"bivec_model_vec.en-fr.en.vec\",\n",
    "                'fr':\"bivec_model_vec.en-fr.fr.vec\"}\n",
    "            ])\n",
    "\n",
    "models.append([\"best_bivec_de.pth.tar\", \n",
    "               {'en':\"bivec_model_vec.de-en.en.vec\",\n",
    "                'de':\"bivec_model_vec.de-en.de.vec\"}\n",
    "              ])\n",
    "                \n",
    "\n",
    "models.append([\"best_correct_enfr.pth.tar\", \n",
    "               {'en':\"wiki.multi.en.vec\",\n",
    "                'fr':\"wiki.multi.fr.vec\",\n",
    "                'de':\"wiki.multi.de.vec\",\n",
    "                'cs':\"wiki.multi.cs.vec\"}\n",
    "              ])\n",
    "                \n",
    "\n",
    "models.append([\"best_correct_full_enfrde.pth.tar\",\n",
    "               {'en':\"wiki.multi.en.vec\",\n",
    "                'fr':\"wiki.multi.fr.vec\",\n",
    "                'de':\"wiki.multi.de.vec\",\n",
    "                'cs':\"wiki.multi.cs.vec\"}\n",
    "              ])\n",
    "                \n",
    "models.append([\"best_correct_full_cs.pth.tar\", \n",
    "               {'en':\"wiki.multi.en.vec\",\n",
    "                'fr':\"wiki.multi.fr.vec\",\n",
    "                'de':\"wiki.multi.de.vec\",\n",
    "                'cs':\"wiki.multi.cs.vec\"}\n",
    "              ])"
   ]
  },
  {
   "cell_type": "markdown",
   "metadata": {},
   "source": [
    "# Evaluation on english"
   ]
  },
  {
   "cell_type": "code",
   "execution_count": 18,
   "metadata": {},
   "outputs": [
    {
     "name": "stdout",
     "output_type": "stream",
     "text": [
      "best_sota_coco.pth.tar [array([66.08, 90.7 , 96.2 ]), array([54.124, 85.748, 92.928]), 0.0, 0.0]\n",
      "best_w2vec.pth.tar [array([63.48, 89.48, 95.64]), array([51.868, 84.308, 92.484]), 0.0, 0.0]\n",
      "best_bivec_coco.pth.tar [array([65.58, 90.52, 96.1 ]), array([55.572, 86.924, 93.856]), 0.0, 0.0]\n",
      "best_correct_en.pth.tar [array([63.1 , 89.58, 95.56]), array([51.872, 84.708, 92.824]), 0.0, 0.0]\n",
      "best_bivec_enfr.pth.tar [array([67.78, 91.58, 96.92]), array([56.092, 87.22 , 94.028]), 0.0, 0.0]\n",
      "best_bivec_de.pth.tar [array([67.04, 91.38, 96.68]), array([54.66 , 86.524, 93.548]), 0.0, 0.0]\n",
      "best_correct_enfr.pth.tar [array([63.88, 89.2 , 95.24]), array([52.252, 84.716, 92.74 ]), 0.0, 0.0]\n",
      "best_correct_full_enfrde.pth.tar [array([62.4 , 89.18, 95.16]), array([51.172, 84.092, 92.224]), 0.0, 0.2]\n",
      "best_correct_full_cs.pth.tar [array([63.28, 88.3 , 94.6 ]), array([50.444, 83.388, 91.804]), 0.0, 0.4]\n"
     ]
    }
   ],
   "source": [
    "for model, dic in models:\n",
    "    aa = arguments(dic['en'])\n",
    "    coco_dataset = CocoCaptionsRV(aa, sset=\"val\", transform=prepro_val)\n",
    "\n",
    "    coco_dataset_loader = DataLoader(coco_dataset, batch_size=batch_size, shuffle=False,\n",
    "                                num_workers=6, collate_fn=collate_fn_padded, pin_memory=True)\n",
    "    \n",
    "    # load model\n",
    "    checkpoint = torch.load(\"weights/\"+model, map_location=lambda storage, loc: storage)\n",
    "    join_emb = joint_embedding(checkpoint['args_dict'])\n",
    "    join_emb.load_state_dict(checkpoint[\"state_dict\"])\n",
    "    join_emb = torch.nn.DataParallel(join_emb.cuda().eval())\n",
    "    \n",
    "    \n",
    "    imgs_enc = list()\n",
    "    caps_enc = list()\n",
    "\n",
    "    for i, (imgs, caps, lengths) in enumerate(coco_dataset_loader, 0):\n",
    "        print(\"%2.2f\" % (i*batch_size/len(coco_dataset)*100), \"\\%\", end=\"\\r\")\n",
    "        input_imgs, input_caps = imgs.cuda(), caps.cuda()\n",
    "        with torch.no_grad():\n",
    "            output_imgs, output_caps = join_emb(input_imgs, input_caps, lengths)\n",
    "\n",
    "        imgs_enc.append(output_imgs.cpu().data.numpy())\n",
    "        caps_enc.append(output_caps.cpu().data.numpy())\n",
    "    \n",
    "\n",
    "    print(model, eval_recall5(imgs_enc, caps_enc))"
   ]
  },
  {
   "cell_type": "markdown",
   "metadata": {},
   "source": [
    "# Multilang evaluation"
   ]
  },
  {
   "cell_type": "code",
   "execution_count": 126,
   "metadata": {},
   "outputs": [],
   "source": [
    "%aimport misc.dataset"
   ]
  },
  {
   "cell_type": "code",
   "execution_count": 150,
   "metadata": {},
   "outputs": [],
   "source": [
    "def collate_fn_cap_index(data):\n",
    "    captions, indices = zip(*data)\n",
    "    lengths = [len(cap) for cap in captions]\n",
    "    captions = pad_sequence(captions, batch_first=True)\n",
    "    indices = np.stack(indices)\n",
    "    return captions, indices, lengths\n"
   ]
  },
  {
   "cell_type": "code",
   "execution_count": 128,
   "metadata": {},
   "outputs": [],
   "source": [
    "def multilingual_recall(imgs, caps, indices, ks=[1,5,10]):\n",
    "    \"\"\"\n",
    "        Compute multingual recall\n",
    "    \"\"\"\n",
    "    imgs = np.vstack(imgs)\n",
    "    caps = np.vstack(caps)\n",
    "    indices = np.concatenate(indices)\n",
    "    \n",
    "    scores = -cosine_sim(imgs, caps)\n",
    "    ranks = np.argsort(np.argsort(scores))\n",
    "    # scores represent all the similarity between each images and each captions\n",
    "    recall = {k:0 for k in ks}\n",
    "    nb_imgs, nb_caps = ranks.shape\n",
    "\n",
    "    for i in range(nb_imgs):\n",
    "        for k in ks:\n",
    "            for c in range(nb_caps):\n",
    "                if indices[c] == i and ranks[i][c] < k: #if caption correspond to image and is ranked less than k\n",
    "                        recall[k] += 1\n",
    "                        break\n",
    "                        \n",
    "    scores = -cosine_sim(caps, imgs)\n",
    "    ranks_caps = np.argsort(np.argsort(scores))\n",
    "    recall_caps = {k:0 for k in ks}\n",
    "\n",
    "    nb_caps, nb_imgs = ranks_caps.shape\n",
    "    for c in range(nb_caps):\n",
    "        for k in ks:\n",
    "            if ranks_caps[c][indices[c]] < k:\n",
    "                recall_caps[k] += 1\n",
    "    \n",
    "    return [recall[k] / nb_imgs*100 for k in recall], [recall_caps[k] / nb_caps*100 for k in ks], np.median(ranks), np.median(ranks_caps)\n",
    "\n"
   ]
  },
  {
   "cell_type": "code",
   "execution_count": 155,
   "metadata": {},
   "outputs": [],
   "source": [
    "models = []\n",
    "\n",
    "#english only models\n",
    "models.append([\"best_sota_coco.pth.tar\", \n",
    "                {'en':\"wiki.en.bin\"}\n",
    "              ]) # state of the art model\n",
    "\n",
    "models.append([\"best_w2vec.pth.tar\", \n",
    "               {'en':\"w2vec_model_vec.en.vec\"}\n",
    "              ]) # word2vec model\n",
    "\n",
    "# Bivec models\n",
    "models.append([\"best_bivec_coco.pth.tar\", \n",
    "               {'en':\"bivec_model_vec.en-fr.en.vec\",\n",
    "                'fr':\"bivec_model_vec.en-fr.en.vec\"}\n",
    "               ]) # bivec on coco only\n",
    "\n",
    "\n",
    "models.append([\"best_bivec_enfr.pth.tar\",\n",
    "               {'en':\"bivec_model_vec.en-fr.en.vec\",\n",
    "                'fr':\"bivec_model_vec.en-fr.fr.vec\"}\n",
    "            ])\n",
    "\n",
    "models.append([\"best_bivec_de.pth.tar\", \n",
    "               {'en':\"bivec_model_vec.de-en.en.vec\",\n",
    "                'de':\"bivec_model_vec.de-en.de.vec\"}\n",
    "              ])\n",
    "                \n",
    "\n",
    "# Muse Models \n",
    "models.append([\"best_correct_en.pth.tar\", \n",
    "               {'en':\"wiki.multi.en.vec\",\n",
    "                'fr':\"wiki.multi.fr.vec\",\n",
    "                'de':\"wiki.multi.de.vec\",\n",
    "                'cs':\"wiki.multi.cs.vec\"}\n",
    "              ]) # muse on english\n",
    "\n",
    "\n",
    "models.append([\"best_correct_enfr.pth.tar\", \n",
    "               {'en':\"wiki.multi.en.vec\",\n",
    "                'fr':\"wiki.multi.fr.vec\",\n",
    "                'de':\"wiki.multi.de.vec\",\n",
    "                'cs':\"wiki.multi.cs.vec\"}\n",
    "              ])\n",
    "                \n",
    "\n",
    "models.append([\"best_correct_full_enfrde.pth.tar\",\n",
    "               {'en':\"wiki.multi.en.vec\",\n",
    "                'fr':\"wiki.multi.fr.vec\",\n",
    "                'de':\"wiki.multi.de.vec\",\n",
    "                'cs':\"wiki.multi.cs.vec\"}\n",
    "              ])\n",
    "                \n",
    "models.append([\"best_correct_full_cs.pth.tar\", \n",
    "               {'en':\"wiki.multi.en.vec\",\n",
    "                'fr':\"wiki.multi.fr.vec\",\n",
    "                'de':\"wiki.multi.de.vec\",\n",
    "                'cs':\"wiki.multi.cs.vec\"}\n",
    "              ])"
   ]
  },
  {
   "cell_type": "code",
   "execution_count": 156,
   "metadata": {},
   "outputs": [
    {
     "name": "stdout",
     "output_type": "stream",
     "text": [
      "best_sota_coco.pth.tar en (array([18.04733728, 41.71597633, 52.95857988]), array([20.90729783, 46.15384615, 58.28402367]), 506.5, 506.5)\n",
      "best_sota_coco.pth.tar ['en'] ([18.04733727810651, 41.71597633136095, 52.95857988165681], [20.907297830374755, 46.15384615384615, 58.28402366863905], 506.5, 506.5)\n",
      "best_w2vec.pth.tar en (array([19.52662722, 41.32149901, 52.07100592]), array([22.58382643, 46.15384615, 55.91715976]), 506.5, 506.5)\n",
      "best_w2vec.pth.tar ['en'] ([19.526627218934912, 41.32149901380671, 52.071005917159766], [22.583826429980274, 46.15384615384615, 55.917159763313606], 506.5, 506.5)\n",
      "best_bivec_coco.pth.tar en (array([17.4556213 , 39.44773176, 49.90138067]), array([20.21696252, 41.91321499, 53.3530572 ]), 506.5, 506.5)\n",
      "best_bivec_coco.pth.tar fr (array([ 6.41025641, 18.04733728, 27.31755424]), array([ 5.81854043, 17.35700197, 26.13412229]), 506.5, 506.5)\n",
      "best_bivec_coco.pth.tar ['en', 'fr'] ([15.976331360946746, 35.60157790927022, 44.47731755424063], [13.017751479289942, 29.63510848126233, 39.743589743589745], 1013.5, 506.5)\n",
      "best_bivec_enfr.pth.tar en (array([20.1183432 , 42.50493097, 55.62130178]), array([25.64102564, 48.22485207, 59.76331361]), 506.5, 506.5)\n",
      "best_bivec_enfr.pth.tar fr (array([19.42800789, 42.6035503 , 54.24063116]), array([21.69625247, 44.87179487, 55.22682446]), 506.5, 506.5)\n",
      "best_bivec_enfr.pth.tar ['en', 'fr'] ([20.51282051282051, 37.8698224852071, 50.09861932938856], [23.668639053254438, 46.548323471400394, 57.49506903353058], 1013.5, 506.5)\n",
      "best_bivec_de.pth.tar en (array([19.62524655, 44.37869822, 56.31163708]), array([25.14792899, 50.69033531, 61.43984221]), 506.5, 506.5)\n",
      "best_bivec_de.pth.tar de (array([14.49704142, 33.03747535, 45.06903353]), array([13.80670611, 33.53057199, 43.58974359]), 506.5, 506.5)\n",
      "best_bivec_de.pth.tar ['en', 'de'] ([17.850098619329387, 39.94082840236686, 51.4792899408284], [19.47731755424063, 42.11045364891518, 52.51479289940828], 1013.5, 506.5)\n",
      "best_correct_en.pth.tar en (array([17.65285996, 40.53254438, 52.56410256]), array([19.42800789, 43.98422091, 56.60749507]), 506.5, 506.5)\n",
      "best_correct_en.pth.tar fr (array([13.51084813, 35.50295858, 45.75936884]), array([13.11637081, 33.43195266, 46.05522682]), 506.5, 506.5)\n",
      "best_correct_en.pth.tar de (array([12.62327416, 33.53057199, 43.98422091]), array([13.11637081, 32.74161736, 44.18145957]), 506.5, 506.5)\n",
      "best_correct_en.pth.tar cs (array([10.25641026, 28.89546351, 40.23668639]), array([ 9.86193294, 27.71203156, 38.75739645]), 506.5, 506.5)\n",
      "best_correct_en.pth.tar ['en', 'fr', 'de', 'cs'] ([15.187376725838265, 32.149901380670606, 42.89940828402367], [13.880670611439841, 34.467455621301774, 46.400394477317555], 2027.5, 506.5)\n",
      "best_correct_enfr.pth.tar en (array([13.60946746, 32.84023669, 43.39250493]), array([18.4418146 , 38.95463511, 50.39447732]), 506.5, 506.5)\n",
      "best_correct_enfr.pth.tar fr (array([12.32741617, 32.93885602, 42.50493097]), array([15.28599606, 33.03747535, 43.68836292]), 506.5, 506.5)\n",
      "best_correct_enfr.pth.tar de (array([11.24260355, 26.92307692, 37.37672584]), array([12.72189349, 30.47337278, 41.617357  ]), 506.5, 506.5)\n",
      "best_correct_enfr.pth.tar cs (array([ 8.48126233, 23.27416174, 33.43195266]), array([ 9.76331361, 24.1617357 , 34.02366864]), 506.5, 506.5)\n",
      "best_correct_enfr.pth.tar ['en', 'fr', 'de', 'cs'] ([12.52465483234714, 25.64102564102564, 34.61538461538461], [14.053254437869821, 31.65680473372781, 42.43096646942801], 2027.5, 506.5)\n",
      "best_correct_full_enfrde.pth.tar en (array([17.25838264, 36.5877712 , 48.81656805]), array([20.1183432 , 42.01183432, 54.63510848]), 506.5, 506.5)\n",
      "best_correct_full_enfrde.pth.tar fr (array([14.29980276, 35.50295858, 47.14003945]), array([16.37080868, 35.8974359 , 46.94280079]), 506.5, 506.5)\n",
      "best_correct_full_enfrde.pth.tar de (array([14.29980276, 33.62919132, 44.2800789 ]), array([15.38461538, 34.31952663, 45.06903353]), 506.5, 506.5)\n",
      "best_correct_full_enfrde.pth.tar cs (array([10.65088757, 26.82445759, 39.9408284 ]), array([10.35502959, 28.99408284, 38.2642998 ]), 506.5, 506.5)\n",
      "best_correct_full_enfrde.pth.tar ['en', 'fr', 'de', 'cs'] ([16.173570019723865, 30.96646942800789, 39.349112426035504], [15.557199211045363, 35.30571992110454, 46.22781065088758], 2027.5, 506.5)\n",
      "best_correct_full_cs.pth.tar en (array([16.56804734, 37.37672584, 48.12623274]), array([21.00591716, 44.87179487, 55.32544379]), 506.5, 506.5)\n",
      "best_correct_full_cs.pth.tar fr (array([14.89151874, 37.86982249, 48.3234714 ]), array([15.18737673, 37.5739645 , 49.30966469]), 506.5, 506.5)\n",
      "best_correct_full_cs.pth.tar de (array([12.91913215, 33.43195266, 45.16765286]), array([14.99013807, 35.60157791, 46.84418146]), 506.5, 506.5)\n",
      "best_correct_full_cs.pth.tar cs (array([13.11637081, 33.43195266, 46.35108481]), array([14.39842209, 34.31952663, 46.05522682]), 506.5, 506.5)\n",
      "best_correct_full_cs.pth.tar ['en', 'fr', 'de', 'cs'] ([15.581854043392504, 31.163708086785007, 40.92702169625247], [16.395463510848128, 38.09171597633136, 49.383629191321496], 2027.5, 506.5)\n"
     ]
    }
   ],
   "source": [
    "for model, dic in models:\n",
    "    # load model\n",
    "    checkpoint = torch.load(\"weights/\"+model, map_location=lambda storage, loc: storage)\n",
    "    join_emb = joint_embedding(checkpoint['args_dict'])\n",
    "    join_emb.load_state_dict(checkpoint[\"state_dict\"])\n",
    "    join_emb = torch.nn.DataParallel(join_emb.cuda().eval())\n",
    "    \n",
    "    image_dataset = misc.dataset.ImageDataset(\"data/image_splits/val.txt\",\n",
    "                            \"/data/datasets/flickr30k_images\",\n",
    "                            transform=prepro_val\n",
    "                            )\n",
    "    \n",
    "    #image_dataset = misc.dataset.Multi30k(sset='val', transform=prepro_val, typ='image')\n",
    "    \n",
    "    imgs_enc = [[]] * len(image_dataset)\n",
    "    \n",
    "    image_data_loader = DataLoader(image_dataset, batch_size=batch_size, shuffle=False,\n",
    "                                num_workers=6, pin_memory=True)\n",
    "    \n",
    "    \n",
    "    for i, (imgs, index) in enumerate(image_data_loader):\n",
    "        print(\"%2.2f\" % (i*batch_size/len(image_dataset)*100), \"\\%\", end=\"\\r\")\n",
    "        with torch.no_grad():\n",
    "            output_imgs, _ = join_emb(imgs, None, None)\n",
    "        for j, ind in enumerate(index):\n",
    "            imgs_enc[ind] = output_imgs[j].cpu().data.numpy()\n",
    "            \n",
    "        if (output_imgs != output_imgs).any() :\n",
    "            print(\"Error in image\")\n",
    "\n",
    "    indices=[]\n",
    "    caps_enc = []\n",
    "    langs = []\n",
    "    for lang in dic:\n",
    "        langs.append(lang)\n",
    "        lang_dataset = misc.dataset.CaptionDataset(\"data/tok/val.lc.norm.tok.\"+lang,\n",
    "                                                  '/data/m.portaz/'+dic[lang])\n",
    "        \n",
    "        caption_loader = DataLoader(lang_dataset, batch_size=batch_size, shuffle=False,\n",
    "                                num_workers=6, collate_fn=collate_fn_cap_index, pin_memory=True)\n",
    "        \n",
    "        lang_cap = []\n",
    "        for i, (caps, inds, lengths) in enumerate(caption_loader):\n",
    "            print(\"%2.2f\" % (i*batch_size/len(lang_dataset)*100), \"\\%\", end=\"\\r\")\n",
    "            \n",
    "            with torch.no_grad():\n",
    "                _, output_caps = join_emb(None, caps, lengths)\n",
    "                \n",
    "            caps_enc.append(output_caps.cpu().data.numpy())\n",
    "            lang_cap.append(output_caps.cpu().data.numpy())\n",
    "            indices.append(inds)\n",
    "            \n",
    "        print(model, lang, k_recall(imgs_enc,lang_cap))\n",
    "    print(model, langs ,multilingual_recall(imgs_enc,caps_enc, indices))"
   ]
  }
 ],
 "metadata": {
  "kernelspec": {
   "display_name": "Python 3",
   "language": "python",
   "name": "python3"
  },
  "language_info": {
   "codemirror_mode": {
    "name": "ipython",
    "version": 3
   },
   "file_extension": ".py",
   "mimetype": "text/x-python",
   "name": "python",
   "nbconvert_exporter": "python",
   "pygments_lexer": "ipython3",
   "version": "3.6.5"
  }
 },
 "nbformat": 4,
 "nbformat_minor": 2
}
