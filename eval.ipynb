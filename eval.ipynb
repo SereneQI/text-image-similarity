{
 "cells": [
  {
   "cell_type": "code",
   "execution_count": 1,
   "metadata": {},
   "outputs": [],
   "source": [
    "import sys"
   ]
  },
  {
   "cell_type": "code",
   "execution_count": 2,
   "metadata": {},
   "outputs": [],
   "source": [
    "%load_ext autoreload"
   ]
  },
  {
   "cell_type": "code",
   "execution_count": 3,
   "metadata": {},
   "outputs": [],
   "source": [
    "%autoreload 1"
   ]
  },
  {
   "cell_type": "code",
   "execution_count": 4,
   "metadata": {},
   "outputs": [],
   "source": [
    "import argparse\n",
    "import time\n",
    "import torch\n",
    "import torchvision.transforms as transforms\n",
    "import numpy as np\n",
    "import os\n",
    "\n",
    "from misc.dataset import CocoCaptionsRV, Multi30k\n",
    "from misc.evaluation import eval_recall, eval_recall5\n",
    "from misc.model import joint_embedding\n",
    "from misc.utils import collate_fn_padded\n",
    "from torch.utils.data import DataLoader\n",
    "import torch.utils.data as data\n",
    "\n",
    "os.environ[\"CUDA_VISIBLE_DEVICES\"]=\"3\""
   ]
  },
  {
   "cell_type": "markdown",
   "metadata": {},
   "source": [
    "## Parameters"
   ]
  },
  {
   "cell_type": "code",
   "execution_count": 5,
   "metadata": {},
   "outputs": [],
   "source": [
    "normalize = transforms.Normalize(\n",
    "        mean=[0.485, 0.456, 0.406], std=[0.229, 0.224, 0.225])\n",
    "\n",
    "prepro_val = transforms.Compose([\n",
    "        transforms.Resize((400, 400)),\n",
    "        transforms.ToTensor(),\n",
    "        normalize,\n",
    "    ])"
   ]
  },
  {
   "cell_type": "code",
   "execution_count": 6,
   "metadata": {},
   "outputs": [],
   "source": [
    "class arguments:\n",
    "    def __init__(self, dict):\n",
    "        self.dict = '/data/m.portaz/'+dict"
   ]
  },
  {
   "cell_type": "code",
   "execution_count": 7,
   "metadata": {},
   "outputs": [],
   "source": [
    "batch_size = 128"
   ]
  },
  {
   "cell_type": "code",
   "execution_count": 8,
   "metadata": {},
   "outputs": [
    {
     "name": "stderr",
     "output_type": "stream",
     "text": [
      "[nltk_data] Downloading package punkt to /home/user/nltk_data...\n",
      "[nltk_data]   Package punkt is already up-to-date!\n"
     ]
    },
    {
     "data": {
      "text/plain": [
       "True"
      ]
     },
     "execution_count": 8,
     "metadata": {},
     "output_type": "execute_result"
    }
   ],
   "source": [
    "import nltk\n",
    "nltk.download('punkt')"
   ]
  },
  {
   "cell_type": "markdown",
   "metadata": {},
   "source": [
    "## Test Evaluation"
   ]
  },
  {
   "cell_type": "code",
   "execution_count": 10,
   "metadata": {},
   "outputs": [],
   "source": [
    "def cosine_sim(A, B):\n",
    "    \"\"\"\n",
    "        Return similarity of each image with each caption\n",
    "        One line of the output matrix correspond to one image\n",
    "        Each row correspond to one caption\n",
    "    \"\"\"\n",
    "    img_norm = np.linalg.norm(A, axis=1)\n",
    "    caps_norm = np.linalg.norm(B, axis=1)\n",
    "    scores = np.dot(A, B.T)\n",
    "    norms = np.dot(np.expand_dims(img_norm, 1),np.expand_dims(caps_norm.T, 1).T)\n",
    "    scores = (scores / norms)\n",
    "    return scores"
   ]
  },
  {
   "cell_type": "code",
   "execution_count": 11,
   "metadata": {},
   "outputs": [],
   "source": [
    "def multilingual_recall(imgs, caps, indices, ks=[1,5,10]):\n",
    "    \"\"\"\n",
    "        Compute multingual recall\n",
    "    \"\"\"\n",
    "    imgs = np.vstack(imgs)\n",
    "    caps = np.vstack(caps)\n",
    "\n",
    "    scores = -cosine_sim(imgs, caps)\n",
    "    ranks = np.argsort(np.argsort(scores))\n",
    "    # scores represent all the similarity between each images and each captions\n",
    "    recall = {k:0 for k in ks}\n",
    "    nb_imgs, nb_caps = ranks.shape\n",
    "    for i in range(nb_imgs):\n",
    "        for k in ks:\n",
    "            for j in range(nb_caps):\n",
    "                if indices[j] == i and ranks[i][j] < k: #if the caption correspond to the image and is ranked less than k\n",
    "                    recall[k] += 1\n",
    "                \n",
    "    scores = np.transpose(scores)\n",
    "    ranks_caps = np.argsort(np.argsort(scores))\n",
    "    recall_caps = {k:0 for k in ks}\n",
    "    print(\"Caption ranks :\", ranks_caps)\n",
    "    nb_caps, nb_imgs = ranks.shape\n",
    "    for i in range(nb_caps):\n",
    "        for k in ks:\n",
    "            if ranks[indices[i]][i] < k:\n",
    "                recall_caps[k] += 1\n",
    "    \n",
    "    return [recall[k] / imgs.shape[0]*100 for k in ks], [recall_caps[k] / ranks_caps.shape[0]*100 for k in ks]"
   ]
  },
  {
   "cell_type": "markdown",
   "metadata": {},
   "source": [
    "# Models to evaluate\n",
    "## with their corresponding dictionnaries"
   ]
  },
  {
   "cell_type": "code",
   "execution_count": 9,
   "metadata": {},
   "outputs": [],
   "source": [
    "models = []\n",
    "\n",
    "#english only models\n",
    "models.append([\"best_sota_coco.pth.tar\", \n",
    "                {'en':\"wiki.en.bin\"}\n",
    "              ]) # state of the art model\n",
    "\n",
    "models.append([\"best_w2vec.pth.tar\", \n",
    "               {'en':\"w2vec_model_vec.en.vec\"}\n",
    "              ]) # word2vec model\n",
    "               \n",
    "models.append([\"best_bivec_coco.pth.tar\", \n",
    "               {'en':\"bivec_model_vec.en-fr.en.vec\"}\n",
    "               ]) # bivec on coco only\n",
    "               \n",
    "models.append([\"best_correct_en.pth.tar\", \n",
    "               {'en':\"wiki.multi.en.vec\"}\n",
    "              ]) # muse on english\n",
    "\n",
    "\n",
    "#multilingual models\n",
    "models.append([\"best_bivec_enfr.pth.tar\",\n",
    "               {'en':\"bivec_model_vec.en-fr.en.vec\",\n",
    "                'fr':\"bivec_model_vec.en-fr.fr.vec\"}\n",
    "            ])\n",
    "\n",
    "models.append([\"best_bivec_de.pth.tar\", \n",
    "               {'en':\"bivec_model_vec.en-de.en.vec\",\n",
    "                'de':\"bivec_model_vec.en-de.de.vec\"}\n",
    "              ])\n",
    "                \n",
    "\n",
    "models.append([\"best_correct_enfr.pth.tar\", \n",
    "               {'en':\"wiki.multi.en.vec\",\n",
    "                'fr':\"wiki.multi.fr.vec\",\n",
    "                'fr':\"wiki.multi.de.vec\",\n",
    "                'fr':\"wiki.multi.cs.vec\"}\n",
    "              ])\n",
    "                \n",
    "\n",
    "models.append([\"best_correct_full_enfrde.pth.tar\",\n",
    "               {'en':\"wiki.multi.en.vec\",\n",
    "                'fr':\"wiki.multi.fr.vec\",\n",
    "                'fr':\"wiki.multi.de.vec\",\n",
    "                'fr':\"wiki.multi.cs.vec\"}\n",
    "              ])\n",
    "                \n",
    "models.append([\"best_correct_full_enfrde.pth.tar\", \n",
    "               {'en':\"wiki.multi.en.vec\",\n",
    "                'fr':\"wiki.multi.fr.vec\",\n",
    "                'fr':\"wiki.multi.de.vec\",\n",
    "                'fr':\"wiki.multi.cs.vec\"}\n",
    "              ])"
   ]
  },
  {
   "cell_type": "markdown",
   "metadata": {},
   "source": [
    "# Evaluation on english"
   ]
  },
  {
   "cell_type": "code",
   "execution_count": 12,
   "metadata": {},
   "outputs": [
    {
     "data": {
      "text/plain": [
       "6"
      ]
     },
     "execution_count": 12,
     "metadata": {},
     "output_type": "execute_result"
    }
   ],
   "source": [
    "np.sum([1,2,3])"
   ]
  },
  {
   "cell_type": "code",
   "execution_count": 10,
   "metadata": {},
   "outputs": [
    {
     "name": "stdout",
     "output_type": "stream",
     "text": [
      "best_sota_coco.pth.tar [array([66.08, 90.7 , 96.2 ]), array([54.124, 85.748, 92.928]), 0.0, 0.0]\n"
     ]
    },
    {
     "ename": "FileNotFoundError",
     "evalue": "[Errno 2] No such file or directory: '/data/m.portaz/w2vec_model_vec.en.vec'",
     "output_type": "error",
     "traceback": [
      "\u001b[0;31m---------------------------------------------------------------------------\u001b[0m",
      "\u001b[0;31mFileNotFoundError\u001b[0m                         Traceback (most recent call last)",
      "\u001b[0;32m<ipython-input-10-9a5162a404b8>\u001b[0m in \u001b[0;36m<module>\u001b[0;34m\u001b[0m\n\u001b[1;32m      1\u001b[0m \u001b[0;32mfor\u001b[0m \u001b[0mmodel\u001b[0m\u001b[0;34m,\u001b[0m \u001b[0mdic\u001b[0m \u001b[0;32min\u001b[0m \u001b[0mmodels\u001b[0m\u001b[0;34m:\u001b[0m\u001b[0;34m\u001b[0m\u001b[0m\n\u001b[1;32m      2\u001b[0m     \u001b[0maa\u001b[0m \u001b[0;34m=\u001b[0m \u001b[0marguments\u001b[0m\u001b[0;34m(\u001b[0m\u001b[0mdic\u001b[0m\u001b[0;34m[\u001b[0m\u001b[0;34m'en'\u001b[0m\u001b[0;34m]\u001b[0m\u001b[0;34m)\u001b[0m\u001b[0;34m\u001b[0m\u001b[0m\n\u001b[0;32m----> 3\u001b[0;31m     \u001b[0mcoco_dataset\u001b[0m \u001b[0;34m=\u001b[0m \u001b[0mCocoCaptionsRV\u001b[0m\u001b[0;34m(\u001b[0m\u001b[0maa\u001b[0m\u001b[0;34m,\u001b[0m \u001b[0msset\u001b[0m\u001b[0;34m=\u001b[0m\u001b[0;34m\"val\"\u001b[0m\u001b[0;34m,\u001b[0m \u001b[0mtransform\u001b[0m\u001b[0;34m=\u001b[0m\u001b[0mprepro_val\u001b[0m\u001b[0;34m)\u001b[0m\u001b[0;34m\u001b[0m\u001b[0m\n\u001b[0m\u001b[1;32m      4\u001b[0m \u001b[0;34m\u001b[0m\u001b[0m\n\u001b[1;32m      5\u001b[0m     coco_dataset_loader = DataLoader(coco_dataset, batch_size=batch_size, shuffle=False,\n",
      "\u001b[0;32m/workspace/dsve-loc/misc/dataset.py\u001b[0m in \u001b[0;36m__init__\u001b[0;34m(self, args, root, coco_json_file_path, sset, transform)\u001b[0m\n\u001b[1;32m     71\u001b[0m         \u001b[0;31m#self.params = np.load(path_params, encoding='latin1')\u001b[0m\u001b[0;34m\u001b[0m\u001b[0;34m\u001b[0m\u001b[0m\n\u001b[1;32m     72\u001b[0m         \u001b[0;32mif\u001b[0m \u001b[0margs\u001b[0m\u001b[0;34m.\u001b[0m\u001b[0mdict\u001b[0m\u001b[0;34m[\u001b[0m\u001b[0;34m-\u001b[0m\u001b[0;36m3\u001b[0m\u001b[0;34m:\u001b[0m\u001b[0;34m]\u001b[0m \u001b[0;34m==\u001b[0m \u001b[0;34m'vec'\u001b[0m\u001b[0;34m:\u001b[0m\u001b[0;34m\u001b[0m\u001b[0m\n\u001b[0;32m---> 73\u001b[0;31m             \u001b[0mself\u001b[0m\u001b[0;34m.\u001b[0m\u001b[0membed\u001b[0m\u001b[0;34m,\u001b[0m \u001b[0mself\u001b[0m\u001b[0;34m.\u001b[0m\u001b[0mid2word\u001b[0m\u001b[0;34m,\u001b[0m \u001b[0mself\u001b[0m\u001b[0;34m.\u001b[0m\u001b[0mword2id\u001b[0m \u001b[0;34m=\u001b[0m \u001b[0m_load_vec\u001b[0m\u001b[0;34m(\u001b[0m\u001b[0margs\u001b[0m\u001b[0;34m.\u001b[0m\u001b[0mdict\u001b[0m\u001b[0;34m)\u001b[0m\u001b[0;34m\u001b[0m\u001b[0m\n\u001b[0m\u001b[1;32m     74\u001b[0m         \u001b[0;32melse\u001b[0m\u001b[0;34m:\u001b[0m\u001b[0;34m\u001b[0m\u001b[0m\n\u001b[1;32m     75\u001b[0m             \u001b[0mself\u001b[0m\u001b[0;34m.\u001b[0m\u001b[0membed\u001b[0m \u001b[0;34m=\u001b[0m \u001b[0mfastText\u001b[0m\u001b[0;34m.\u001b[0m\u001b[0mload_model\u001b[0m\u001b[0;34m(\u001b[0m\u001b[0margs\u001b[0m\u001b[0;34m.\u001b[0m\u001b[0mdict\u001b[0m\u001b[0;34m)\u001b[0m\u001b[0;34m\u001b[0m\u001b[0m\n",
      "\u001b[0;32m/workspace/dsve-loc/misc/dataset.py\u001b[0m in \u001b[0;36m_load_vec\u001b[0;34m(emb_path)\u001b[0m\n\u001b[1;32m     30\u001b[0m     \u001b[0mvectors\u001b[0m \u001b[0;34m=\u001b[0m \u001b[0;34m[\u001b[0m\u001b[0;34m]\u001b[0m\u001b[0;34m\u001b[0m\u001b[0m\n\u001b[1;32m     31\u001b[0m     \u001b[0mword2id\u001b[0m \u001b[0;34m=\u001b[0m \u001b[0;34m{\u001b[0m\u001b[0;34m}\u001b[0m\u001b[0;34m\u001b[0m\u001b[0m\n\u001b[0;32m---> 32\u001b[0;31m     \u001b[0;32mwith\u001b[0m \u001b[0mio\u001b[0m\u001b[0;34m.\u001b[0m\u001b[0mopen\u001b[0m\u001b[0;34m(\u001b[0m\u001b[0memb_path\u001b[0m\u001b[0;34m,\u001b[0m \u001b[0;34m'r'\u001b[0m\u001b[0;34m,\u001b[0m \u001b[0mencoding\u001b[0m\u001b[0;34m=\u001b[0m\u001b[0;34m'utf-8'\u001b[0m\u001b[0;34m,\u001b[0m \u001b[0mnewline\u001b[0m\u001b[0;34m=\u001b[0m\u001b[0;34m'\\n'\u001b[0m\u001b[0;34m,\u001b[0m \u001b[0merrors\u001b[0m\u001b[0;34m=\u001b[0m\u001b[0;34m'ignore'\u001b[0m\u001b[0;34m)\u001b[0m \u001b[0;32mas\u001b[0m \u001b[0mf\u001b[0m\u001b[0;34m:\u001b[0m\u001b[0;34m\u001b[0m\u001b[0m\n\u001b[0m\u001b[1;32m     33\u001b[0m         \u001b[0mnext\u001b[0m\u001b[0;34m(\u001b[0m\u001b[0mf\u001b[0m\u001b[0;34m)\u001b[0m\u001b[0;34m\u001b[0m\u001b[0m\n\u001b[1;32m     34\u001b[0m         \u001b[0;32mfor\u001b[0m \u001b[0mi\u001b[0m\u001b[0;34m,\u001b[0m \u001b[0mline\u001b[0m \u001b[0;32min\u001b[0m \u001b[0menumerate\u001b[0m\u001b[0;34m(\u001b[0m\u001b[0mf\u001b[0m\u001b[0;34m)\u001b[0m\u001b[0;34m:\u001b[0m\u001b[0;34m\u001b[0m\u001b[0m\n",
      "\u001b[0;31mFileNotFoundError\u001b[0m: [Errno 2] No such file or directory: '/data/m.portaz/w2vec_model_vec.en.vec'"
     ]
    }
   ],
   "source": [
    "for model, dic in models:\n",
    "    aa = arguments(dic['en'])\n",
    "    coco_dataset = CocoCaptionsRV(aa, sset=\"val\", transform=prepro_val)\n",
    "\n",
    "    coco_dataset_loader = DataLoader(coco_dataset, batch_size=batch_size, shuffle=False,\n",
    "                                num_workers=6, collate_fn=collate_fn_padded, pin_memory=True)\n",
    "    \n",
    "    # load model\n",
    "    checkpoint = torch.load(\"weights/\"+model, map_location=lambda storage, loc: storage)\n",
    "    join_emb = joint_embedding(checkpoint['args_dict']).cuda()\n",
    "    join_emb.load_state_dict(checkpoint[\"state_dict\"])\n",
    "    join_emb = torch.nn.DataParallel(join_emb.cuda().eval())\n",
    "    \n",
    "    \n",
    "    imgs_enc = list()\n",
    "    caps_enc = list()\n",
    "\n",
    "    for i, (imgs, caps, lengths) in enumerate(coco_dataset_loader, 0):\n",
    "        print(\"%2.2f\" % (i*batch_size/len(coco_dataset)*100), \"\\%\", end=\"\\r\")\n",
    "        input_imgs, input_caps = imgs.cuda(), caps.cuda()\n",
    "        with torch.no_grad():\n",
    "            output_imgs, output_caps = join_emb(input_imgs, input_caps, lengths)\n",
    "\n",
    "        imgs_enc.append(output_imgs.cpu().data.numpy())\n",
    "        caps_enc.append(output_caps.cpu().data.numpy())\n",
    "    \n",
    "\n",
    "    print(model, eval_recall5(imgs_enc, caps_enc))"
   ]
  },
  {
   "cell_type": "markdown",
   "metadata": {},
   "source": [
    "# Multilang evaluation"
   ]
  },
  {
   "cell_type": "code",
   "execution_count": 9,
   "metadata": {},
   "outputs": [],
   "source": [
    "%aimport misc.dataset"
   ]
  },
  {
   "cell_type": "code",
   "execution_count": 10,
   "metadata": {},
   "outputs": [],
   "source": [
    "dataset_multi = misc.dataset.MultiLingualDataset(filename=\"data/image_splits/test_2016_flickr.txt\",\n",
    "                              image_dir=\"/data/datasets/flickr30k_images\", \n",
    "                              captionsFileList=\n",
    "                                  [(\"data/tok/test_2016_flickr.lc.norm.tok.en\",'en'),\n",
    "                                    (\"data/tok/test_2016_flickr.lc.norm.tok.fr\",'fr'),\n",
    "                                   (\"data/tok/test_2016_flickr.lc.norm.tok.de\",'de'),\n",
    "                                   (\"data/tok/test_2016_flickr.lc.norm.tok.cs\",'cs')\n",
    "                                  ],\n",
    "                              dictDict={'en':'/data/m.portaz/wiki.multi.en.vec',\n",
    "                                        'fr':\"/data/m.portaz/wiki.multi.fr.vec\",\n",
    "                                        'de':\"/data/m.portaz/wiki.multi.de.vec\",\n",
    "                                        'cs':\"/data/m.portaz/wiki.multi.cs.vec\"\n",
    "                                       },\n",
    "                              transform=prepro_val\n",
    "                             )"
   ]
  },
  {
   "cell_type": "code",
   "execution_count": 12,
   "metadata": {},
   "outputs": [],
   "source": [
    "image_dataset = misc.dataset.ImageDataset(\"data/image_splits/test_2016_flickr.txt\",\n",
    "                            \"/data/datasets/flickr30k_images\",\n",
    "                            transform=prepro_val\n",
    "                            )"
   ]
  },
  {
   "cell_type": "code",
   "execution_count": 13,
   "metadata": {},
   "outputs": [],
   "source": [
    "english_dataset = misc.dataset.CaptionDataset(\"data/tok/test_2016_flickr.lc.norm.tok.en\",\n",
    "                                \"/data/m.portaz/wiki.multi.en.vec\")\n",
    "french_dataset  = misc.dataset.CaptionDataset(\"data/tok/test_2016_flickr.lc.norm.tok.fr\",\n",
    "                                \"/data/m.portaz/wiki.multi.fr.vec\")\n"
   ]
  },
  {
   "cell_type": "code",
   "execution_count": null,
   "metadata": {},
   "outputs": [],
   "source": [
    "image_dataset[0]"
   ]
  },
  {
   "cell_type": "code",
   "execution_count": 61,
   "metadata": {},
   "outputs": [
    {
     "name": "stdout",
     "output_type": "stream",
     "text": [
      "Opening image : /data/datasets/flickr30k_images/1007129816.jpg\n"
     ]
    },
    {
     "data": {
      "text/plain": [
       "(tensor([[[-1.5870, -1.5699, -1.5699,  ..., -1.6555, -1.6727, -1.6727],\n",
       "          [-1.5870, -1.5699, -1.5699,  ..., -1.6555, -1.6727, -1.6727],\n",
       "          [-1.5870, -1.5699, -1.5699,  ..., -1.6384, -1.6555, -1.6555],\n",
       "          ...,\n",
       "          [-1.5528, -1.5528, -1.5528,  ..., -1.8097, -1.8097, -1.7754],\n",
       "          [-1.5699, -1.5528, -1.5699,  ..., -1.8268, -1.8268, -1.7925],\n",
       "          [-1.5699, -1.5528, -1.5870,  ..., -1.9295, -1.9638, -1.9467]],\n",
       " \n",
       "         [[-1.5105, -1.4930, -1.4930,  ..., -1.5630, -1.5805, -1.5805],\n",
       "          [-1.5105, -1.4930, -1.4930,  ..., -1.5630, -1.5805, -1.5805],\n",
       "          [-1.5105, -1.4930, -1.4930,  ..., -1.5455, -1.5630, -1.5630],\n",
       "          ...,\n",
       "          [-1.4405, -1.4405, -1.4405,  ..., -1.9307, -1.9132, -1.8782],\n",
       "          [-1.4580, -1.4405, -1.4580,  ..., -1.9132, -1.9132, -1.8782],\n",
       "          [-1.4580, -1.4405, -1.4755,  ..., -1.9482, -1.9832, -1.9657]],\n",
       " \n",
       "         [[-1.3164, -1.2990, -1.2990,  ..., -1.2990, -1.3164, -1.3164],\n",
       "          [-1.3164, -1.2990, -1.2990,  ..., -1.2990, -1.3164, -1.3164],\n",
       "          [-1.3164, -1.2990, -1.2990,  ..., -1.2816, -1.2990, -1.2990],\n",
       "          ...,\n",
       "          [-1.1247, -1.1247, -1.1247,  ..., -1.5779, -1.5779, -1.5430],\n",
       "          [-1.1421, -1.1247, -1.1421,  ..., -1.5953, -1.5953, -1.5604],\n",
       "          [-1.1421, -1.1247, -1.1596,  ..., -1.6824, -1.6999, -1.6650]]]),\n",
       " ('a man in an orange hat starring at something .', 0))"
      ]
     },
     "execution_count": 61,
     "metadata": {},
     "output_type": "execute_result"
    }
   ],
   "source": [
    "for model, dic in models:\n",
    "    \n",
    "    \n",
    "    \n",
    "    for lang in dic:\n",
    "        \n",
    "    aa = arguments(dic['en'])\n",
    "    coco_dataset = CocoCaptionsRV(aa, sset=\"val\", transform=prepro_val)\n",
    "\n",
    "    coco_dataset_loader = DataLoader(coco_dataset, batch_size=batch_size, shuffle=False,\n",
    "                                num_workers=6, collate_fn=collate_fn_padded, pin_memory=True)\n",
    "    \n",
    "    # load model\n",
    "    checkpoint = torch.load(\"weights/\"+model, map_location=lambda storage, loc: storage)\n",
    "    join_emb = joint_embedding(checkpoint['args_dict']).cuda()\n",
    "    join_emb.load_state_dict(checkpoint[\"state_dict\"])\n",
    "    join_emb = torch.nn.DataParallel(join_emb.cuda().eval())\n",
    "    \n",
    "    \n",
    "    imgs_enc = list()\n",
    "    caps_enc = list()\n",
    "\n",
    "    for i, (imgs, caps, lengths) in enumerate(coco_dataset_loader, 0):\n",
    "        print(\"%2.2f\" % (i*batch_size/len(coco_dataset)*100), \"\\%\", end=\"\\r\")\n",
    "        input_imgs, input_caps = imgs.cuda(), caps.cuda()\n",
    "        with torch.no_grad():\n",
    "            output_imgs, output_caps = join_emb(input_imgs, input_caps, lengths)\n",
    "\n",
    "        imgs_enc.append(output_imgs.cpu().data.numpy())\n",
    "        caps_enc.append(output_caps.cpu().data.numpy())\n",
    "    \n",
    "\n",
    "    print(model, eval_recall5(imgs_enc, caps_enc))"
   ]
  },
  {
   "cell_type": "code",
   "execution_count": 62,
   "metadata": {},
   "outputs": [
    {
     "name": "stdout",
     "output_type": "stream",
     "text": [
      "Opening image : /data/datasets/flickr30k_images/1007129816.jpg\n"
     ]
    },
    {
     "data": {
      "text/plain": [
       "(tensor([[[-1.5870, -1.5699, -1.5699,  ..., -1.6555, -1.6727, -1.6727],\n",
       "          [-1.5870, -1.5699, -1.5699,  ..., -1.6555, -1.6727, -1.6727],\n",
       "          [-1.5870, -1.5699, -1.5699,  ..., -1.6384, -1.6555, -1.6555],\n",
       "          ...,\n",
       "          [-1.5528, -1.5528, -1.5528,  ..., -1.8097, -1.8097, -1.7754],\n",
       "          [-1.5699, -1.5528, -1.5699,  ..., -1.8268, -1.8268, -1.7925],\n",
       "          [-1.5699, -1.5528, -1.5870,  ..., -1.9295, -1.9638, -1.9467]],\n",
       " \n",
       "         [[-1.5105, -1.4930, -1.4930,  ..., -1.5630, -1.5805, -1.5805],\n",
       "          [-1.5105, -1.4930, -1.4930,  ..., -1.5630, -1.5805, -1.5805],\n",
       "          [-1.5105, -1.4930, -1.4930,  ..., -1.5455, -1.5630, -1.5630],\n",
       "          ...,\n",
       "          [-1.4405, -1.4405, -1.4405,  ..., -1.9307, -1.9132, -1.8782],\n",
       "          [-1.4580, -1.4405, -1.4580,  ..., -1.9132, -1.9132, -1.8782],\n",
       "          [-1.4580, -1.4405, -1.4755,  ..., -1.9482, -1.9832, -1.9657]],\n",
       " \n",
       "         [[-1.3164, -1.2990, -1.2990,  ..., -1.2990, -1.3164, -1.3164],\n",
       "          [-1.3164, -1.2990, -1.2990,  ..., -1.2990, -1.3164, -1.3164],\n",
       "          [-1.3164, -1.2990, -1.2990,  ..., -1.2816, -1.2990, -1.2990],\n",
       "          ...,\n",
       "          [-1.1247, -1.1247, -1.1247,  ..., -1.5779, -1.5779, -1.5430],\n",
       "          [-1.1421, -1.1247, -1.1421,  ..., -1.5953, -1.5953, -1.5604],\n",
       "          [-1.1421, -1.1247, -1.1596,  ..., -1.6824, -1.6999, -1.6650]]]),\n",
       " ('un homme avec un chapeau orange regardant quelque chose .', 0))"
      ]
     },
     "execution_count": 62,
     "metadata": {},
     "output_type": "execute_result"
    }
   ],
   "source": [
    "dataset[len(dataset.captions['en'])]"
   ]
  },
  {
   "cell_type": "code",
   "execution_count": null,
   "metadata": {},
   "outputs": [],
   "source": []
  }
 ],
 "metadata": {
  "kernelspec": {
   "display_name": "Python 3",
   "language": "python",
   "name": "python3"
  },
  "language_info": {
   "codemirror_mode": {
    "name": "ipython",
    "version": 3
   },
   "file_extension": ".py",
   "mimetype": "text/x-python",
   "name": "python",
   "nbconvert_exporter": "python",
   "pygments_lexer": "ipython3",
   "version": "3.6.5"
  }
 },
 "nbformat": 4,
 "nbformat_minor": 2
}
