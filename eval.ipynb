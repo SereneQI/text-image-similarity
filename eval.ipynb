{
 "cells": [
  {
   "cell_type": "code",
   "execution_count": 1,
   "metadata": {},
   "outputs": [],
   "source": [
    "import sys"
   ]
  },
  {
   "cell_type": "code",
   "execution_count": 2,
   "metadata": {},
   "outputs": [
    {
     "data": {
      "text/plain": [
       "sys.version_info(major=3, minor=6, micro=5, releaselevel='final', serial=0)"
      ]
     },
     "execution_count": 2,
     "metadata": {},
     "output_type": "execute_result"
    }
   ],
   "source": [
    "sys.version_info"
   ]
  },
  {
   "cell_type": "code",
   "execution_count": 9,
   "metadata": {},
   "outputs": [],
   "source": [
    "import argparse\n",
    "import time\n",
    "import torch\n",
    "import torchvision.transforms as transforms\n",
    "import numpy as np\n",
    "import os\n",
    "\n",
    "from misc.dataset import CocoCaptionsRV, Multi30k\n",
    "from misc.evaluation import eval_recall, eval_recall5\n",
    "from misc.model import joint_embedding\n",
    "from misc.utils import collate_fn_padded\n",
    "from torch.utils.data import DataLoader\n",
    "\n",
    "os.environ[\"CUDA_VISIBLE_DEVICES\"]=\"3\""
   ]
  },
  {
   "cell_type": "code",
   "execution_count": 10,
   "metadata": {},
   "outputs": [],
   "source": [
    "batch_size = 128"
   ]
  },
  {
   "cell_type": "markdown",
   "metadata": {},
   "source": [
    "## Test Evaluation"
   ]
  },
  {
   "cell_type": "code",
   "execution_count": 11,
   "metadata": {},
   "outputs": [],
   "source": [
    "def cosine_sim(A, B):\n",
    "    \"\"\"\n",
    "        Return similarity of each image with each caption\n",
    "        One line of the output matrix correspond to one image\n",
    "        Each row correspond to one caption\n",
    "    \"\"\"\n",
    "    img_norm = np.linalg.norm(A, axis=1)\n",
    "    caps_norm = np.linalg.norm(B, axis=1)\n",
    "    scores = np.dot(A, B.T)\n",
    "    norms = np.dot(np.expand_dims(img_norm, 1),np.expand_dims(caps_norm.T, 1).T)\n",
    "    scores = (scores / norms)\n",
    "    return scores"
   ]
  },
  {
   "cell_type": "code",
   "execution_count": 12,
   "metadata": {},
   "outputs": [],
   "source": [
    "def multilingual_recall(imgs, caps, indices, ks=[1,5,10]):\n",
    "    \"\"\"\n",
    "        Compute multingual recall\n",
    "    \"\"\"\n",
    "    imgs = np.vstack(imgs)\n",
    "    caps = np.vstack(caps)\n",
    "\n",
    "    scores = -cosine_sim(imgs, caps)\n",
    "    ranks = np.argsort(np.argsort(scores))\n",
    "    # scores represent all the similarity between each images and each captions\n",
    "    recall = {k:0 for k in ks}\n",
    "    nb_imgs, nb_caps = ranks.shape\n",
    "    for i in range(nb_imgs):\n",
    "        for k in ks:\n",
    "            for j in range(nb_caps):\n",
    "                if indices[j] == i and ranks[i][j] < k: #if the caption correspond to the image and is ranked less than k\n",
    "                    recall[k] += 1\n",
    "                \n",
    "    scores = np.transpose(scores)\n",
    "    ranks_caps = np.argsort(np.argsort(scores))\n",
    "    recall_caps = {k:0 for k in ks}\n",
    "    print(\"Caption ranks :\", ranks_caps)\n",
    "    nb_caps, nb_imgs = ranks.shape\n",
    "    for i in range(nb_caps):\n",
    "        for k in ks:\n",
    "            if ranks[indices[i]][i] < k:\n",
    "                recall_caps[k] += 1\n",
    "    \n",
    "    return [recall[k] / imgs.shape[0]*100 for k in ks], [recall_caps[k] / ranks_caps.shape[0]*100 for k in ks]"
   ]
  },
  {
   "cell_type": "markdown",
   "metadata": {},
   "source": [
    "# Evaluation on english"
   ]
  },
  {
   "cell_type": "code",
   "execution_count": 13,
   "metadata": {},
   "outputs": [],
   "source": [
    "normalize = transforms.Normalize(\n",
    "        mean=[0.485, 0.456, 0.406], std=[0.229, 0.224, 0.225])\n",
    "\n",
    "prepro_val = transforms.Compose([\n",
    "        transforms.Scale((400, 400)),\n",
    "        transforms.RandomCrop((400,400)),\n",
    "        transforms.ToTensor(),\n",
    "        normalize,\n",
    "    ])\n"
   ]
  },
  {
   "cell_type": "code",
   "execution_count": 14,
   "metadata": {},
   "outputs": [
    {
     "name": "stdout",
     "output_type": "stream",
     "text": [
      "Testing model : best_sota_coco.pth.tar\n",
      "Using .bin file\n"
     ]
    },
    {
     "ename": "FileNotFoundError",
     "evalue": "[Errno 2] No such file or directory: 'data/best_sota_coco.pth.tar'",
     "output_type": "error",
     "traceback": [
      "\u001b[0;31m---------------------------------------------------------------------------\u001b[0m",
      "\u001b[0;31mFileNotFoundError\u001b[0m                         Traceback (most recent call last)",
      "\u001b[0;32m<ipython-input-14-23205e11cf2e>\u001b[0m in \u001b[0;36m<module>\u001b[0;34m\u001b[0m\n\u001b[1;32m     20\u001b[0m \u001b[0;34m\u001b[0m\u001b[0m\n\u001b[1;32m     21\u001b[0m     \u001b[0;31m# load model\u001b[0m\u001b[0;34m\u001b[0m\u001b[0;34m\u001b[0m\u001b[0m\n\u001b[0;32m---> 22\u001b[0;31m     \u001b[0mcheckpoint\u001b[0m \u001b[0;34m=\u001b[0m \u001b[0mtorch\u001b[0m\u001b[0;34m.\u001b[0m\u001b[0mload\u001b[0m\u001b[0;34m(\u001b[0m\u001b[0;34m\"data/\"\u001b[0m\u001b[0;34m+\u001b[0m\u001b[0mmodel\u001b[0m\u001b[0;34m,\u001b[0m \u001b[0mmap_location\u001b[0m\u001b[0;34m=\u001b[0m\u001b[0;32mlambda\u001b[0m \u001b[0mstorage\u001b[0m\u001b[0;34m,\u001b[0m \u001b[0mloc\u001b[0m\u001b[0;34m:\u001b[0m \u001b[0mstorage\u001b[0m\u001b[0;34m)\u001b[0m\u001b[0;34m\u001b[0m\u001b[0m\n\u001b[0m\u001b[1;32m     23\u001b[0m     \u001b[0mjoin_emb\u001b[0m \u001b[0;34m=\u001b[0m \u001b[0mjoint_embedding\u001b[0m\u001b[0;34m(\u001b[0m\u001b[0mcheckpoint\u001b[0m\u001b[0;34m[\u001b[0m\u001b[0;34m'args_dict'\u001b[0m\u001b[0;34m]\u001b[0m\u001b[0;34m)\u001b[0m\u001b[0;34m.\u001b[0m\u001b[0mcuda\u001b[0m\u001b[0;34m(\u001b[0m\u001b[0;34m)\u001b[0m\u001b[0;34m\u001b[0m\u001b[0m\n\u001b[1;32m     24\u001b[0m     \u001b[0mjoin_emb\u001b[0m\u001b[0;34m.\u001b[0m\u001b[0mload_state_dict\u001b[0m\u001b[0;34m(\u001b[0m\u001b[0mcheckpoint\u001b[0m\u001b[0;34m[\u001b[0m\u001b[0;34m\"state_dict\"\u001b[0m\u001b[0;34m]\u001b[0m\u001b[0;34m)\u001b[0m\u001b[0;34m\u001b[0m\u001b[0m\n",
      "\u001b[0;32m/opt/conda/envs/py36/lib/python3.6/site-packages/torch/serialization.py\u001b[0m in \u001b[0;36mload\u001b[0;34m(f, map_location, pickle_module)\u001b[0m\n\u001b[1;32m    364\u001b[0m             \u001b[0;34m(\u001b[0m\u001b[0msys\u001b[0m\u001b[0;34m.\u001b[0m\u001b[0mversion_info\u001b[0m\u001b[0;34m[\u001b[0m\u001b[0;36m0\u001b[0m\u001b[0;34m]\u001b[0m \u001b[0;34m==\u001b[0m \u001b[0;36m3\u001b[0m \u001b[0;32mand\u001b[0m \u001b[0misinstance\u001b[0m\u001b[0;34m(\u001b[0m\u001b[0mf\u001b[0m\u001b[0;34m,\u001b[0m \u001b[0mpathlib\u001b[0m\u001b[0;34m.\u001b[0m\u001b[0mPath\u001b[0m\u001b[0;34m)\u001b[0m\u001b[0;34m)\u001b[0m\u001b[0;34m:\u001b[0m\u001b[0;34m\u001b[0m\u001b[0m\n\u001b[1;32m    365\u001b[0m         \u001b[0mnew_fd\u001b[0m \u001b[0;34m=\u001b[0m \u001b[0;32mTrue\u001b[0m\u001b[0;34m\u001b[0m\u001b[0m\n\u001b[0;32m--> 366\u001b[0;31m         \u001b[0mf\u001b[0m \u001b[0;34m=\u001b[0m \u001b[0mopen\u001b[0m\u001b[0;34m(\u001b[0m\u001b[0mf\u001b[0m\u001b[0;34m,\u001b[0m \u001b[0;34m'rb'\u001b[0m\u001b[0;34m)\u001b[0m\u001b[0;34m\u001b[0m\u001b[0m\n\u001b[0m\u001b[1;32m    367\u001b[0m     \u001b[0;32mtry\u001b[0m\u001b[0;34m:\u001b[0m\u001b[0;34m\u001b[0m\u001b[0m\n\u001b[1;32m    368\u001b[0m         \u001b[0;32mreturn\u001b[0m \u001b[0m_load\u001b[0m\u001b[0;34m(\u001b[0m\u001b[0mf\u001b[0m\u001b[0;34m,\u001b[0m \u001b[0mmap_location\u001b[0m\u001b[0;34m,\u001b[0m \u001b[0mpickle_module\u001b[0m\u001b[0;34m)\u001b[0m\u001b[0;34m\u001b[0m\u001b[0m\n",
      "\u001b[0;31mFileNotFoundError\u001b[0m: [Errno 2] No such file or directory: 'data/best_sota_coco.pth.tar'"
     ]
    }
   ],
   "source": [
    "models = []\n",
    "models.append([\"best_sota_coco.pth.tar\", \"wiki.en.bin\"]) # state of the art model\n",
    "#models.append([\"best_w2vec.pth.tar\", \"w2vec_model_vec.en.vec\"]) # word2vec model\n",
    "#models.append([\"best_bivec_coco.pth.tar\", \"bivec_model_vec.en-fr.en.vec\"]) # bivec on coco only\n",
    "#models.append([\"best_correct_en.pth.tar\", \"wiki.multi.en.vec\"]) # muse embeddings on english\n",
    "\n",
    "class arguments:\n",
    "    def __init__(self, dict):\n",
    "        self.dict = 'data/'+dict\n",
    "        \n",
    "        \n",
    "\n",
    "for model, dic in models:\n",
    "    print(\"Testing model :\", model)\n",
    "    aa = arguments(dic)\n",
    "    coco_dataset = CocoCaptionsRV(aa, sset=\"val\", transform=prepro_val)\n",
    "\n",
    "    coco_dataset_loader = DataLoader(coco_dataset, batch_size=batch_size, shuffle=False,\n",
    "                                num_workers=6, collate_fn=collate_fn_padded, pin_memory=True)\n",
    "    \n",
    "    # load model\n",
    "    checkpoint = torch.load(\"weights/\"+model, map_location=lambda storage, loc: storage)\n",
    "    join_emb = joint_embedding(checkpoint['args_dict']).cuda()\n",
    "    join_emb.load_state_dict(checkpoint[\"state_dict\"])\n",
    "    join_emb = torch.nn.DataParallel(join_emb.cuda().eval())\n",
    "    \n",
    "    \n",
    "    imgs_enc = list()\n",
    "    caps_enc = list()\n",
    "\n",
    "    print(\"### Beginning of evaluation ###\")\n",
    "    for i, (imgs, caps, lengths) in enumerate(coco_dataset_loader, 0):\n",
    "        input_imgs, input_caps = imgs.cuda(), caps.cuda()\n",
    "\n",
    "        with torch.no_grad():\n",
    "            output_imgs, output_caps = join_emb(input_imgs, input_caps, lengths)\n",
    "\n",
    "        imgs_enc.append(output_imgs.cpu().data.numpy())\n",
    "        caps_enc.append(output_caps.cpu().data.numpy())\n",
    "    \n",
    "\n",
    "    print(model, eval_recall5(imgs_enc, caps_enc))\n",
    "    \n"
   ]
  },
  {
   "cell_type": "markdown",
   "metadata": {},
   "source": [
    "# Multilang evaluation"
   ]
  },
  {
   "cell_type": "code",
   "execution_count": null,
   "metadata": {},
   "outputs": [],
   "source": [
    "models = []\n",
    "models.append([\"best_sota_coco.pth.tar\", \"wiki.en.bin\"]) # state of the art model\n",
    "models.append([\"best_w2vec.pth.tar\", \"w2vec_model_vec.en.vec\"]) # word2vec model\n",
    "models.append([\"best_bivec_coco.pth.tar\", \"bivec_model_vec.en-fr.en.vec\"]) # bivec on coco only\n",
    "models.append([\"best_correct_en.pth.tar\", \"wiki.multi.en.vec\"]) # muse embeddings on english"
   ]
  }
 ],
 "metadata": {
  "kernelspec": {
   "display_name": "Python 3",
   "language": "python",
   "name": "python3"
  },
  "language_info": {
   "codemirror_mode": {
    "name": "ipython",
    "version": 3
   },
   "file_extension": ".py",
   "mimetype": "text/x-python",
   "name": "python",
   "nbconvert_exporter": "python",
   "pygments_lexer": "ipython3",
   "version": "3.6.5"
  }
 },
 "nbformat": 4,
 "nbformat_minor": 2
}
